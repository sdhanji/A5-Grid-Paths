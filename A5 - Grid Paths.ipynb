{
 "cells": [
  {
   "cell_type": "code",
   "execution_count": 1,
   "id": "37f27ca5-f760-4850-926c-b942054ed462",
   "metadata": {
    "tags": []
   },
   "outputs": [],
   "source": [
    "import numpy as np"
   ]
  },
  {
   "cell_type": "code",
   "execution_count": 2,
   "id": "ce89cab1-ce65-4e08-9857-1ca6c4e891ac",
   "metadata": {
    "tags": []
   },
   "outputs": [
    {
     "name": "stdout",
     "output_type": "stream",
     "text": [
      "With 2 points there are 2 permutations. (2! = 2)\n",
      "With 4 points there are 24 permutations. (4! = 24)\n",
      "With 3 points there are 6 permutations. (3! = 6)\n",
      "With 5 points there are 120 permutations. (5! = 120)\n",
      "With 6 points there are 720 permutations. (6! = 720)\n",
      "With 9 points there are 362880 permutations. (9! = 362880)\n",
      "\n",
      "With these 2 points there are 2 valid paths.\n",
      "With these 4 points there are 24 valid paths.\n",
      "With these 3 points there are 2 valid paths.\n",
      "With these 5 points there are 72 valid paths.\n",
      "With these 6 points there are 336 valid paths.\n",
      "With these 9 points there are 32256 valid paths.\n"
     ]
    }
   ],
   "source": [
    "#find all permutations\n",
    "def permutations(List, checkValidity):\n",
    "    \n",
    "    #end cases required for recursive algorithms\n",
    "    if len(List) == 0:\n",
    "        return []\n",
    "    \n",
    "    if len(List) == 1:\n",
    "        return [List]\n",
    "    \n",
    "    \n",
    "    l = []\n",
    "    for i in range(len(List)):\n",
    "        coordinate = List[i] #choose a point in the list\n",
    "        restOfList = List[:i] + List[i + 1:] #create list that excludes that point\n",
    "        \n",
    "        for p in permutations(restOfList, checkValidity): #apply 'permutations' function to the rest of the list (recursion)\n",
    "            if checkValidity: #so that later on we can either calculate number of permutations or number of valid paths\n",
    "                if rules([coordinate] + p): #true if permutation p only contains valid connections (as defined in 'rules' function below)\n",
    "                    l.append([coordinate] + p) #add valid path to list\n",
    "            else:\n",
    "                l.append([coordinate] + p) #if checkValidity is false, then we are calculating number of permutations not paths .:. don't care about invalid connections\n",
    "    \n",
    "    return l #return final list of permutations\n",
    "\n",
    "\n",
    "\n",
    "\n",
    "#determines if a permutation is a valid path\n",
    "def rules(perm):\n",
    "    \n",
    "    valid = True\n",
    "    for i in range(len(perm) - 1): #work our way through entire permutations\n",
    "        if valid == True:\n",
    "            \n",
    "            #compare current point to next point\n",
    "            point = perm[i]\n",
    "            nextPoint = perm[i + 1]\n",
    "\n",
    "            xDiff = np.abs(point[0] - nextPoint[0]) #difference in x-coords of points\n",
    "            yDiff = np.abs(point[1] - nextPoint[1]) #difference in y-coords of points\n",
    "            \n",
    "            if xDiff == 0 and yDiff > 1: #same x-coord but not adjacent => not valid connection\n",
    "                valid = False\n",
    "            elif yDiff == 0 and xDiff > 1: #same y-coord but not adjacent => not valid connection\n",
    "                valid = False\n",
    "            elif xDiff == yDiff and xDiff > 1: #gradient of connection = +/-1 but not adjacent => not valid connection\n",
    "                valid = False\n",
    "                \n",
    "    return valid #only true if we didn't enter any of the if, else statements\n",
    "        \n",
    "\n",
    "\n",
    "    \n",
    "    \n",
    "#prints results in legible format\n",
    "def output(grid, valid):\n",
    "    if not valid:\n",
    "        print(\"With \" + str(len(grid)) + \" points there are \" + str(len(permutations(grid, valid))) + \" permutations. (\" + str(len(grid)) + \"! = \" + str(np.math.factorial(len(grid))) + \")\")\n",
    "    else:\n",
    "        print(\"With these \" + str(len(grid)) + \" points there are \" + str(len(permutations(grid, valid))) + \" valid paths.\")\n",
    "\n",
    "\n",
    "\n",
    "\n",
    "grid1 = [(0, 0), (1, 0)] #2 points\n",
    "grid2 = [(0, 0), (0, 1), (1, 0), (1, 1)] #4 points (square)\n",
    "line = [(0, 0), (1, 0), (2, 0)] #3 points (line)\n",
    "grid3 = [(0, 0), (0, 1), (1, 0), (1, 1), (2, 1)] #5 points (square + extra point)\n",
    "grid4 = [(0, 0), (0, 1), (1, 0), (1, 1), (2, 1), (2, 0)] #6 points (rectangle)\n",
    "grid5 = [(0, 0), (0, 1), (0, 2), (1, 0), (1, 1), (1, 2), (2, 0), (2, 1), (2, 2)] #9 points (3 x 3 grid)\n",
    "\n",
    "\n",
    "\n",
    "#permutations for each set of points\n",
    "output(grid1, False)\n",
    "output(grid2, False)\n",
    "output(line, False)\n",
    "output(grid3, False)\n",
    "output(grid4, False)\n",
    "output(grid5, False)\n",
    "print()\n",
    "\n",
    "#valid paths for each set of points\n",
    "output(grid1, True)\n",
    "output(grid2, True)\n",
    "output(line, True)\n",
    "output(grid3, True)\n",
    "output(grid4, True)\n",
    "output(grid5, True)\n",
    "    "
   ]
  },
  {
   "cell_type": "code",
   "execution_count": null,
   "id": "3526ab8a-66a2-4fb9-97f5-90e00ddf2d88",
   "metadata": {},
   "outputs": [],
   "source": []
  }
 ],
 "metadata": {
  "kernelspec": {
   "display_name": "Python 3 (ipykernel)",
   "language": "python",
   "name": "python3"
  },
  "language_info": {
   "codemirror_mode": {
    "name": "ipython",
    "version": 3
   },
   "file_extension": ".py",
   "mimetype": "text/x-python",
   "name": "python",
   "nbconvert_exporter": "python",
   "pygments_lexer": "ipython3",
   "version": "3.11.5"
  }
 },
 "nbformat": 4,
 "nbformat_minor": 5
}
